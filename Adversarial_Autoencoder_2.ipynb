{
  "nbformat": 4,
  "nbformat_minor": 0,
  "metadata": {
    "colab": {
      "name": "Adversarial Autoencoder.ipynb",
      "version": "0.3.2",
      "provenance": [],
      "collapsed_sections": []
    },
    "kernelspec": {
      "name": "python3",
      "display_name": "Python 3"
    },
    "accelerator": "GPU"
  },
  "cells": [
    {
      "cell_type": "markdown",
      "metadata": {
        "id": "view-in-github",
        "colab_type": "text"
      },
      "source": [
        "[View in Colaboratory](https://colab.research.google.com/github/danielcanueto/Adversarial_Autoencoder/blob/master/Adversarial_Autoencoder_2.ipynb)"
      ]
    },
    {
      "metadata": {
        "id": "IOWEw65c-x-S",
        "colab_type": "code",
        "colab": {}
      },
      "cell_type": "code",
      "source": [
        "import os \n",
        "import tensorflow as tf\n",
        "import numpy as np"
      ],
      "execution_count": 0,
      "outputs": []
    },
    {
      "metadata": {
        "id": "kWMmTKxy3Yb2",
        "colab_type": "code",
        "colab": {}
      },
      "cell_type": "code",
      "source": [
        "#I've prepared a fork of the original repository in order to edit the parameters (e.g. from 1000 epochs to 100, as I've seen it is not necessary to have som amny at least during exploratory analysis).\n",
        "#!git clone https://github.com/danielcanueto/Adversarial_Autoencoder/"
      ],
      "execution_count": 0,
      "outputs": []
    },
    {
      "metadata": {
        "id": "KUApQmO43kfH",
        "colab_type": "code",
        "colab": {}
      },
      "cell_type": "code",
      "source": [
        "#os.chdir('Adversarial_Autoencoder')"
      ],
      "execution_count": 0,
      "outputs": []
    },
    {
      "metadata": {
        "id": "nkEBRHdsMYjl",
        "colab_type": "code",
        "colab": {}
      },
      "cell_type": "code",
      "source": [
        "#!python3 autoencoder.py --train True\n",
        "#!python3 adversarial_autoencoder.py --train True\n",
        "#!python3 supervised_adversarial_autoencoder.py --train True"
      ],
      "execution_count": 0,
      "outputs": []
    },
    {
      "metadata": {
        "id": "o_qp8xuDLiQJ",
        "colab_type": "code",
        "colab": {}
      },
      "cell_type": "code",
      "source": [
        "#!python3 adversarial_autoencoder.py --train False"
      ],
      "execution_count": 0,
      "outputs": []
    },
    {
      "metadata": {
        "id": "koJ4jDefmkU-",
        "colab_type": "code",
        "colab": {}
      },
      "cell_type": "code",
      "source": [
        "#To have access to each model saved. A folder for every model, with basic info in folder\n",
        "#os.listdir('Results/Adversarial_Autoencoder/')"
      ],
      "execution_count": 0,
      "outputs": []
    },
    {
      "metadata": {
        "id": "mIAROAscnSSU",
        "colab_type": "code",
        "colab": {}
      },
      "cell_type": "code",
      "source": [
        "#Log info of training\n",
        "#data_path = 'Results/Adversarial_Autoencoder/2018-05-13 07:03:34.122351_2_0.001_100_100_0.9_Adversarial_Autoencoder/log/log.txt'\n",
        "#with open(data_path, 'rb') as f:\n",
        "#    lines = [x.decode('utf8').strip() for x in f.readlines()]\n",
        "#lines\n",
        "\n",
        "#from tensorflow.examples.tutorials.mnist import input_data\n",
        "#mnist = input_data.read_data_sets('./Data', one_hot=True)\n",
        "\n",
        "#print(mnist.train.images.shape, mnist.train.labels.shape)\n",
        "#print(mnist.validation.images.shape, mnist.validation.labels.shape)\n",
        "#print(mnist.test.images.shape, mnist.test.labels.shape)\n",
        "#mnist.train.next_batch"
      ],
      "execution_count": 0,
      "outputs": []
    },
    {
      "metadata": {
        "id": "4EOw9USP4erZ",
        "colab_type": "code",
        "colab": {}
      },
      "cell_type": "code",
      "source": [
        "#os.chdir(\"..\")"
      ],
      "execution_count": 0,
      "outputs": []
    },
    {
      "metadata": {
        "id": "jzmrWiGC1bTg",
        "colab_type": "code",
        "colab": {
          "base_uri": "https://localhost:8080/",
          "height": 119
        },
        "outputId": "c7732253-cf26-4671-aecc-eb0dca2ced84"
      },
      "cell_type": "code",
      "source": [
        "\n",
        "#I've prepared a fork of the original repository to handle python 2 -> python 3 changes\n",
        "!git clone https://github.com/danielcanueto/abide"
      ],
      "execution_count": 9,
      "outputs": [
        {
          "output_type": "stream",
          "text": [
            "Cloning into 'abide'...\n",
            "remote: Counting objects: 869, done.\u001b[K\n",
            "remote: Compressing objects: 100% (24/24), done.\u001b[K\n",
            "remote: Total 869 (delta 13), reused 0 (delta 0), pack-reused 845\u001b[K\n",
            "Receiving objects: 100% (869/869), 67.23 MiB | 21.16 MiB/s, done.\n",
            "Resolving deltas: 100% (445/445), done.\n"
          ],
          "name": "stdout"
        }
      ]
    },
    {
      "metadata": {
        "id": "_gGw82-S1o8k",
        "colab_type": "code",
        "colab": {
          "base_uri": "https://localhost:8080/",
          "height": 170
        },
        "outputId": "9aa1a675-0eff-4afe-947e-08f7696a3269"
      },
      "cell_type": "code",
      "source": [
        "os.chdir(\"abide\")\n",
        "os.listdir()\n"
      ],
      "execution_count": 10,
      "outputs": [
        {
          "output_type": "execute_result",
          "data": {
            "text/plain": [
              "['freesurfer_files.json',\n",
              " 'README.md',\n",
              " 'map_rawout_to_organized_s3.py',\n",
              " 'concordances',\n",
              " 'download_abide_preproc.py',\n",
              " '.git',\n",
              " '.gitignore',\n",
              " 'download_abide_preproc_guide.txt',\n",
              " 'preprocessing']"
            ]
          },
          "metadata": {
            "tags": []
          },
          "execution_count": 10
        }
      ]
    },
    {
      "metadata": {
        "id": "sFe6RV0Z2rYu",
        "colab_type": "code",
        "colab": {}
      },
      "cell_type": "code",
      "source": [
        "!python3 download_abide_preproc.py -d reho -p cpac -s nofilt_noglobal -o '/content/ABIDE_data'"
      ],
      "execution_count": 0,
      "outputs": []
    },
    {
      "metadata": {
        "id": "Nzre5_V59bs1",
        "colab_type": "code",
        "colab": {}
      },
      "cell_type": "code",
      "source": [
        "#os.listdir(\"/content/ABIDE_data/Outputs/cpac/nofilt_noglobal/reho/\")\n"
      ],
      "execution_count": 0,
      "outputs": []
    },
    {
      "metadata": {
        "id": "iGLkW6-cpcZG",
        "colab_type": "code",
        "colab": {
          "base_uri": "https://localhost:8080/",
          "height": 1140
        },
        "outputId": "62abff31-a27f-4c05-8901-dcbdb40e41b9"
      },
      "cell_type": "code",
      "source": [
        "!pip install nilearn\n",
        "MNI152_FILE_PATH=\"/content/ABIDE_data/Outputs/cpac/nofilt_noglobal/reho/OHSU_0050148_reho.nii.gz\"\n",
        "from nilearn import plotting\n",
        "plotting.plot_img(MNI152_FILE_PATH)"
      ],
      "execution_count": 12,
      "outputs": [
        {
          "output_type": "stream",
          "text": [
            "Collecting nilearn\n",
            "\u001b[?25l  Downloading https://files.pythonhosted.org/packages/6c/a2/0a528aff1c755f98538b18bd49765eae83c6a4da99b27f51baddb6ec5b45/nilearn-0.4.1.tar.gz (894kB)\n",
            "\u001b[K    100% |████████████████████████████████| 901kB 14.3MB/s \n",
            "\u001b[?25hCollecting nibabel>=2.0.2 (from nilearn)\n",
            "\u001b[?25l  Downloading https://files.pythonhosted.org/packages/d7/de/1d96fd0b118c9047bf35f02090db8ef8fd3927dfce635f09a6f7d5b572e6/nibabel-2.2.1.zip (4.2MB)\n",
            "\u001b[K    100% |████████████████████████████████| 4.2MB 10.9MB/s \n",
            "\u001b[?25hBuilding wheels for collected packages: nilearn, nibabel\n",
            "  Running setup.py bdist_wheel for nilearn ... \u001b[?25l-\b \b\\\b \b|\b \b/\b \bdone\n",
            "\u001b[?25h  Stored in directory: /content/.cache/pip/wheels/ee/09/3c/6ddb63159d6377d2c1587e6b4d58a6456da4550c2248583ffc\n",
            "  Running setup.py bdist_wheel for nibabel ... \u001b[?25l-\b \b\\\b \b|\b \b/\b \b-\b \b\\\b \b|\b \bdone\n",
            "\u001b[?25h  Stored in directory: /content/.cache/pip/wheels/46/50/8d/bcb0b8f7c030da5bac1752fbe9cc375cbf5725fa93ba79ad84\n",
            "Successfully built nilearn nibabel\n",
            "Installing collected packages: nibabel, nilearn\n",
            "Successfully installed nibabel-2.2.1 nilearn-0.4.1\n"
          ],
          "name": "stdout"
        },
        {
          "output_type": "stream",
          "text": [
            "/usr/local/lib/python3.6/dist-packages/nilearn/plotting/__init__.py:20: UserWarning: \n",
            "This call to matplotlib.use() has no effect because the backend has already\n",
            "been chosen; matplotlib.use() must be called *before* pylab, matplotlib.pyplot,\n",
            "or matplotlib.backends is imported for the first time.\n",
            "\n",
            "The backend was *originally* set to 'module://ipykernel.pylab.backend_inline' by the following code:\n",
            "  File \"/usr/lib/python3.6/runpy.py\", line 193, in _run_module_as_main\n",
            "    \"__main__\", mod_spec)\n",
            "  File \"/usr/lib/python3.6/runpy.py\", line 85, in _run_code\n",
            "    exec(code, run_globals)\n",
            "  File \"/usr/local/lib/python3.6/dist-packages/ipykernel_launcher.py\", line 16, in <module>\n",
            "    app.launch_new_instance()\n",
            "  File \"/usr/local/lib/python3.6/dist-packages/traitlets/config/application.py\", line 657, in launch_instance\n",
            "    app.initialize(argv)\n",
            "  File \"<decorator-gen-121>\", line 2, in initialize\n",
            "  File \"/usr/local/lib/python3.6/dist-packages/traitlets/config/application.py\", line 87, in catch_config_error\n",
            "    return method(app, *args, **kwargs)\n",
            "  File \"/usr/local/lib/python3.6/dist-packages/ipykernel/kernelapp.py\", line 462, in initialize\n",
            "    self.init_gui_pylab()\n",
            "  File \"/usr/local/lib/python3.6/dist-packages/ipykernel/kernelapp.py\", line 403, in init_gui_pylab\n",
            "    InteractiveShellApp.init_gui_pylab(self)\n",
            "  File \"/usr/local/lib/python3.6/dist-packages/IPython/core/shellapp.py\", line 213, in init_gui_pylab\n",
            "    r = enable(key)\n",
            "  File \"/usr/local/lib/python3.6/dist-packages/IPython/core/interactiveshell.py\", line 2950, in enable_matplotlib\n",
            "    pt.activate_matplotlib(backend)\n",
            "  File \"/usr/local/lib/python3.6/dist-packages/IPython/core/pylabtools.py\", line 309, in activate_matplotlib\n",
            "    matplotlib.pyplot.switch_backend(backend)\n",
            "  File \"/usr/local/lib/python3.6/dist-packages/matplotlib/pyplot.py\", line 232, in switch_backend\n",
            "    matplotlib.use(newbackend, warn=False, force=True)\n",
            "  File \"/usr/local/lib/python3.6/dist-packages/matplotlib/__init__.py\", line 1305, in use\n",
            "    reload(sys.modules['matplotlib.backends'])\n",
            "  File \"/usr/lib/python3.6/importlib/__init__.py\", line 166, in reload\n",
            "    _bootstrap._exec(spec, module)\n",
            "  File \"/usr/local/lib/python3.6/dist-packages/matplotlib/backends/__init__.py\", line 14, in <module>\n",
            "    line for line in traceback.format_stack()\n",
            "\n",
            "\n",
            "  matplotlib.use('Agg')\n"
          ],
          "name": "stderr"
        },
        {
          "output_type": "execute_result",
          "data": {
            "text/plain": [
              "<nilearn.plotting.displays.OrthoSlicer at 0x7f2e2506a080>"
            ]
          },
          "metadata": {
            "tags": []
          },
          "execution_count": 12
        },
        {
          "output_type": "display_data",
          "data": {
            "image/png": "[encoded data removed]",
            "text/plain": [
              "<matplotlib.figure.Figure at 0x7f2e2bb7c240>"
            ]
          },
          "metadata": {
            "tags": []
          }
        }
      ]
    },
    {
      "metadata": {
        "id": "juOwf2qQvmxs",
        "colab_type": "code",
        "colab": {
          "base_uri": "https://localhost:8080/",
          "height": 34
        },
        "outputId": "81785cac-1fe6-4d07-be0b-d926dca5a550"
      },
      "cell_type": "code",
      "source": [
        "!pip install nibabel\n",
        "import nibabel as nib\n",
        "img = nib.load(MNI152_FILE_PATH)\n",
        "a = np.array(img.dataobj)"
      ],
      "execution_count": 13,
      "outputs": [
        {
          "output_type": "stream",
          "text": [
            "Requirement already satisfied: nibabel in /usr/local/lib/python3.6/dist-packages (2.2.1)\r\n"
          ],
          "name": "stdout"
        }
      ]
    },
    {
      "metadata": {
        "id": "Q4BMUKMRwdfb",
        "colab_type": "code",
        "colab": {}
      },
      "cell_type": "code",
      "source": [
        "dirlist=os.listdir(\"/content/ABIDE_data/Outputs/cpac/nofilt_noglobal/reho/\")\n"
      ],
      "execution_count": 0,
      "outputs": []
    },
    {
      "metadata": {
        "id": "Qz1cSPIiJVKi",
        "colab_type": "code",
        "colab": {
          "base_uri": "https://localhost:8080/",
          "height": 34
        },
        "outputId": "6e9379eb-94cd-4ba7-a150-cd022411c8c1"
      },
      "cell_type": "code",
      "source": [
        "a=np.zeros((len(dirlist),a2))\n",
        "a.shape"
      ],
      "execution_count": 16,
      "outputs": [
        {
          "output_type": "execute_result",
          "data": {
            "text/plain": [
              "(884, 3721)"
            ]
          },
          "metadata": {
            "tags": []
          },
          "execution_count": 16
        }
      ]
    },
    {
      "metadata": {
        "id": "McHZFceVyq8X",
        "colab_type": "code",
        "colab": {}
      },
      "cell_type": "code",
      "source": [
        "for x in range(len(dirlist)):\n",
        "  img = nib.load(os.path.join(\"/content/ABIDE_data/Outputs/cpac/nofilt_noglobal/reho/\", dirlist[x]))\n",
        "  a1 = np.array(img.dataobj)[:,32,:]\n",
        "  a[x,] = a1.ravel()"
      ],
      "execution_count": 0,
      "outputs": []
    },
    {
      "metadata": {
        "id": "W0dHm7tiNbAs",
        "colab_type": "code",
        "colab": {
          "base_uri": "https://localhost:8080/",
          "height": 54
        },
        "outputId": "d6f57c7a-55f4-4aca-c83c-e1eaa757e5a8"
      },
      "cell_type": "code",
      "source": [
        "from scipy import stats\n",
        "stats.describe(a1.ravel())"
      ],
      "execution_count": 18,
      "outputs": [
        {
          "output_type": "execute_result",
          "data": {
            "text/plain": [
              "DescribeResult(nobs=3721, minmax=(0.0, 0.30123770236968994), mean=0.04843139977278716, variance=0.00395184063713764, skewness=1.1291287801224423, kurtosis=0.44424546538537113)"
            ]
          },
          "metadata": {
            "tags": []
          },
          "execution_count": 18
        }
      ]
    },
    {
      "metadata": {
        "id": "2xoWwR7rvuv7",
        "colab_type": "code",
        "colab": {}
      },
      "cell_type": "code",
      "source": [
        "data_tf = tf.convert_to_tensor(a, np.float32)"
      ],
      "execution_count": 0,
      "outputs": []
    },
    {
      "metadata": {
        "id": "uBeKNf5P27ao",
        "colab_type": "code",
        "colab": {
          "base_uri": "https://localhost:8080/",
          "height": 119
        },
        "outputId": "1ee5a434-457f-41f2-9168-beb27f85925f"
      },
      "cell_type": "code",
      "source": [
        "os.chdir(\"/content\")\n",
        "!git clone https://github.com/danielcanueto/Adversarial_Autoencoder/\n",
        "os.chdir(\"/content/Adversarial_Autoencoder\")"
      ],
      "execution_count": 20,
      "outputs": [
        {
          "output_type": "stream",
          "text": [
            "Cloning into 'Adversarial_Autoencoder'...\n",
            "remote: Counting objects: 285, done.\u001b[K\n",
            "remote: Compressing objects: 100% (17/17), done.\u001b[K\n",
            "remote: Total 285 (delta 7), reused 3 (delta 0), pack-reused 268\u001b[K\n",
            "Receiving objects: 100% (285/285), 9.04 MiB | 12.81 MiB/s, done.\n",
            "Resolving deltas: 100% (148/148), done.\n"
          ],
          "name": "stdout"
        }
      ]
    },
    {
      "metadata": {
        "id": "HuikmWA84F5e",
        "colab_type": "code",
        "colab": {}
      },
      "cell_type": "code",
      "source": [
        "#!python3 dummy.py --train True"
      ],
      "execution_count": 0,
      "outputs": []
    },
    {
      "metadata": {
        "id": "LZ51HkDaG1Co",
        "colab_type": "code",
        "colab": {}
      },
      "cell_type": "code",
      "source": [
        "import tensorflow as tf\n",
        "import numpy as np\n",
        "import datetime\n",
        "import os\n",
        "import matplotlib.pyplot as plt\n",
        "from matplotlib import gridspec\n",
        "from tensorflow.examples.tutorials.mnist import input_data\n",
        "\n",
        "# Progressbar\n",
        "# bar = progressbar.ProgressBar(widgets=['[', progressbar.Timer(), ']', progressbar.Bar(), '(', progressbar.ETA(), ')'])\n",
        "\n",
        "# Get the MNIST data\n",
        "mnist = data_tf"
      ],
      "execution_count": 0,
      "outputs": []
    },
    {
      "metadata": {
        "id": "HyZZ_xg6ISYc",
        "colab_type": "code",
        "colab": {
          "base_uri": "https://localhost:8080/",
          "height": 34
        },
        "outputId": "cd8cf6f8-2601-4cfe-81d9-03a57f975c97"
      },
      "cell_type": "code",
      "source": [
        "mnist.shape"
      ],
      "execution_count": 23,
      "outputs": [
        {
          "output_type": "execute_result",
          "data": {
            "text/plain": [
              "TensorShape([Dimension(884), Dimension(3721)])"
            ]
          },
          "metadata": {
            "tags": []
          },
          "execution_count": 23
        }
      ]
    },
    {
      "metadata": {
        "id": "ROTl9Sa7HwUH",
        "colab_type": "code",
        "colab": {}
      },
      "cell_type": "code",
      "source": [
        "#mnist = input_data.read_data_sets('./Data', one_hot=True)\n",
        "#mnist = data_tf\n",
        "#print(mnist.train.images.shape, mnist.train.labels.shape)\n",
        "#print(mnist.validation.images.shape, mnist.validation.labels.shape)\n",
        "#print(mnist.test.images.shape, mnist.test.labels.shape)\n",
        "#mnist.train.next_batch"
      ],
      "execution_count": 0,
      "outputs": []
    },
    {
      "metadata": {
        "id": "thziISL7Hh1o",
        "colab_type": "code",
        "colab": {}
      },
      "cell_type": "code",
      "source": [
        "def next_batch(self, batch_size, fake_data=False):\n",
        "    \"\"\"Return the next `batch_size` examples from this data set.\"\"\"\n",
        "    if fake_data:\n",
        "      fake_image = [1] * 784\n",
        "      if self.one_hot:\n",
        "        fake_label = [1] + [0] * 9\n",
        "      else:\n",
        "        fake_label = 0\n",
        "      return [fake_image for _ in xrange(batch_size)], [\n",
        "          fake_label for _ in xrange(batch_size)\n",
        "      ]\n",
        "    start = self._index_in_epoch\n",
        "    self._index_in_epoch += batch_size\n",
        "    if self._index_in_epoch > self._num_examples:\n",
        "      # Finished epoch\n",
        "      self._epochs_completed += 1\n",
        "      # Shuffle the data\n",
        "      perm = numpy.arange(self._num_examples)\n",
        "      numpy.random.shuffle(perm)\n",
        "      self._images = self._images[perm]\n",
        "      self._labels = self._labels[perm]\n",
        "      # Start next epoch\n",
        "      start = 0\n",
        "      self._index_in_epoch = batch_size\n",
        "      assert batch_size <= self._num_examples\n",
        "    end = self._index_in_epoch\n",
        "    return self._images[start:end], self._labels[start:end]\n",
        "\n",
        "\n",
        "def form_results():\n",
        "    \"\"\"\n",
        "    Forms folders for each run to store the tensorboard files, saved models and the log files.\n",
        "    :return: three string pointing to tensorboard, saved models and log paths respectively.\n",
        "    \"\"\"\n",
        "    folder_name = \"/{0}_{1}_{2}_{3}_{4}_{5}_Adversarial_Autoencoder\". \\\n",
        "        format(datetime.datetime.now(), z_dim, learning_rate, batch_size, n_epochs, beta1)\n",
        "    tensorboard_path = results_path + folder_name + '/Tensorboard'\n",
        "    saved_model_path = results_path + folder_name + '/Saved_models/'\n",
        "    log_path = results_path + folder_name + '/log'\n",
        "    if not os.path.exists(results_path + folder_name):\n",
        "        os.mkdir(results_path + folder_name)\n",
        "        os.mkdir(tensorboard_path)\n",
        "        os.mkdir(saved_model_path)\n",
        "        os.mkdir(log_path)\n",
        "    return tensorboard_path, saved_model_path, log_path\n",
        "\n",
        "\n",
        "def generate_image_grid(sess, op):\n",
        "    \"\"\"\n",
        "    Generates a grid of images by passing a set of numbers to the decoder and getting its output.\n",
        "    :param sess: Tensorflow Session required to get the decoder output\n",
        "    :param op: Operation that needs to be called inorder to get the decoder output\n",
        "    :return: None, displays a matplotlib window with all the merged images.\n",
        "    \"\"\"\n",
        "    x_points = np.arange(-10, 10, 1.5).astype(np.float32)\n",
        "    y_points = np.arange(-10, 10, 1.5).astype(np.float32)\n",
        "\n",
        "    nx, ny = len(x_points), len(y_points)\n",
        "    plt.subplot()\n",
        "    gs = gridspec.GridSpec(nx, ny, hspace=0.05, wspace=0.05)\n",
        "\n",
        "    for i, g in enumerate(gs):\n",
        "        z = np.concatenate(([x_points[int(i / ny)]], [y_points[int(i % nx)]]))\n",
        "        z = np.reshape(z, (1, 2))\n",
        "        x = sess.run(op, feed_dict={decoder_input: z})\n",
        "        ax = plt.subplot(g)\n",
        "        img = np.array(x.tolist()).reshape(28, 28)\n",
        "        ax.imshow(img, cmap='gray')\n",
        "        ax.set_xticks([])\n",
        "        ax.set_yticks([])\n",
        "        ax.set_aspect('auto')\n",
        "    plt.show()\n",
        "\n",
        "\n",
        "def dense(x, n1, n2, name):\n",
        "    \"\"\"\n",
        "    Used to create a dense layer.\n",
        "    :param x: input tensor to the dense layer\n",
        "    :param n1: no. of input neurons\n",
        "    :param n2: no. of output neurons\n",
        "    :param name: name of the entire dense layer.i.e, variable scope name.\n",
        "    :return: tensor with shape [batch_size, n2]\n",
        "    \"\"\"\n",
        "    with tf.variable_scope(name, reuse=None):\n",
        "        weights = tf.get_variable(\"weights\", shape=[n1, n2],\n",
        "                                  initializer=tf.random_normal_initializer(mean=0., stddev=0.01))\n",
        "        bias = tf.get_variable(\"bias\", shape=[n2], initializer=tf.constant_initializer(0.0))\n",
        "        out = tf.add(tf.matmul(x, weights), bias, name='matmul')\n",
        "        return out\n",
        "\n",
        "\n",
        "# The autoencoder network\n",
        "def encoder(x, reuse=False):\n",
        "    \"\"\"\n",
        "    Encode part of the autoencoder.\n",
        "    :param x: input to the autoencoder\n",
        "    :param reuse: True -> Reuse the encoder variables, False -> Create or search of variables before creating\n",
        "    :return: tensor which is the hidden latent variable of the autoencoder.\n",
        "    \"\"\"\n",
        "    if reuse:\n",
        "        tf.get_variable_scope().reuse_variables()\n",
        "    with tf.name_scope('Encoder'):\n",
        "        e_dense_1 = tf.nn.relu(dense(x, input_dim, n_l1, 'e_dense_1'))\n",
        "        e_dense_2 = tf.nn.relu(dense(e_dense_1, n_l1, n_l2, 'e_dense_2'))\n",
        "        latent_variable = dense(e_dense_2, n_l2, z_dim, 'e_latent_variable')\n",
        "        return latent_variable\n",
        "\n",
        "\n",
        "def decoder(x, reuse=False):\n",
        "    \"\"\"\n",
        "    Decoder part of the autoencoder.\n",
        "    :param x: input to the decoder\n",
        "    :param reuse: True -> Reuse the decoder variables, False -> Create or search of variables before creating\n",
        "    :return: tensor which should ideally be the input given to the encoder.\n",
        "    \"\"\"\n",
        "    if reuse:\n",
        "        tf.get_variable_scope().reuse_variables()\n",
        "    with tf.name_scope('Decoder'):\n",
        "        d_dense_1 = tf.nn.relu(dense(x, z_dim, n_l2, 'd_dense_1'))\n",
        "        d_dense_2 = tf.nn.relu(dense(d_dense_1, n_l2, n_l1, 'd_dense_2'))\n",
        "        output = tf.nn.sigmoid(dense(d_dense_2, n_l1, input_dim, 'd_output'))\n",
        "        return output\n",
        "\n",
        "\n",
        "def discriminator(x, reuse=False):\n",
        "    \"\"\"\n",
        "    Discriminator that is used to match the posterior distribution with a given prior distribution.\n",
        "    :param x: tensor of shape [batch_size, z_dim]\n",
        "    :param reuse: True -> Reuse the discriminator variables,\n",
        "                  False -> Create or search of variables before creating\n",
        "    :return: tensor of shape [batch_size, 1]\n",
        "    \"\"\"\n",
        "    if reuse:\n",
        "        tf.get_variable_scope().reuse_variables()\n",
        "    with tf.name_scope('Discriminator'):\n",
        "        dc_den1 = tf.nn.relu(dense(x, z_dim, n_l1, name='dc_den1'))\n",
        "        dc_den2 = tf.nn.relu(dense(dc_den1, n_l1, n_l2, name='dc_den2'))\n",
        "        output = dense(dc_den2, n_l2, 1, name='dc_output')\n",
        "        return output\n",
        "\n",
        "\n",
        "def train(train_model=True):\n",
        "    \"\"\"\n",
        "    Used to train the autoencoder by passing in the necessary inputs.\n",
        "    :param train_model: True -> Train the model, False -> Load the latest trained model and show the image grid.\n",
        "    :return: does not return anything\n",
        "    \"\"\"\n",
        "    with tf.variable_scope(tf.get_variable_scope()):\n",
        "        encoder_output = encoder(x_input)\n",
        "        decoder_output = decoder(encoder_output)\n",
        "\n",
        "    with tf.variable_scope(tf.get_variable_scope()):\n",
        "        d_real = discriminator(real_distribution)\n",
        "        d_fake = discriminator(encoder_output, reuse=True)\n",
        "\n",
        "    with tf.variable_scope(tf.get_variable_scope()):\n",
        "        decoder_image = decoder(decoder_input, reuse=True)\n",
        "\n",
        "    # Autoencoder loss\n",
        "    autoencoder_loss = tf.reduce_mean(tf.square(x_target - decoder_output))\n",
        "\n",
        "    # Discrimminator Loss\n",
        "    dc_loss_real = tf.reduce_mean(tf.nn.sigmoid_cross_entropy_with_logits(labels=tf.ones_like(d_real), logits=d_real))\n",
        "    dc_loss_fake = tf.reduce_mean(tf.nn.sigmoid_cross_entropy_with_logits(labels=tf.zeros_like(d_fake), logits=d_fake))\n",
        "    dc_loss = dc_loss_fake + dc_loss_real\n",
        "\n",
        "    # Generator loss\n",
        "    generator_loss = tf.reduce_mean(\n",
        "        tf.nn.sigmoid_cross_entropy_with_logits(labels=tf.ones_like(d_fake), logits=d_fake))\n",
        "\n",
        "    all_variables = tf.trainable_variables()\n",
        "    dc_var = [var for var in all_variables if 'dc_' in var.name]\n",
        "    en_var = [var for var in all_variables if 'e_' in var.name]\n",
        "\n",
        "    # Optimizers\n",
        "    autoencoder_optimizer = tf.train.AdamOptimizer(learning_rate=learning_rate,\n",
        "                                                   beta1=beta1).minimize(autoencoder_loss)\n",
        "    discriminator_optimizer = tf.train.AdamOptimizer(learning_rate=learning_rate,\n",
        "                                                     beta1=beta1).minimize(dc_loss, var_list=dc_var)\n",
        "    generator_optimizer = tf.train.AdamOptimizer(learning_rate=learning_rate,\n",
        "                                                 beta1=beta1).minimize(generator_loss, var_list=en_var)\n",
        "\n",
        "    init = tf.global_variables_initializer()\n",
        "\n",
        "    # Reshape immages to display them\n",
        "    input_images = tf.reshape(x_input, [-1, 28, 28, 1])\n",
        "    generated_images = tf.reshape(decoder_output, [-1, 28, 28, 1])\n",
        "\n",
        "    # Tensorboard visualization\n",
        "    tf.summary.scalar(name='Autoencoder Loss', tensor=autoencoder_loss)\n",
        "    tf.summary.scalar(name='Discriminator Loss', tensor=dc_loss)\n",
        "    tf.summary.scalar(name='Generator Loss', tensor=generator_loss)\n",
        "    tf.summary.histogram(name='Encoder Distribution', values=encoder_output)\n",
        "    tf.summary.histogram(name='Real Distribution', values=real_distribution)\n",
        "    tf.summary.image(name='Input Images', tensor=input_images, max_outputs=10)\n",
        "    tf.summary.image(name='Generated Images', tensor=generated_images, max_outputs=10)\n",
        "    summary_op = tf.summary.merge_all()\n",
        "\n",
        "    # Saving the model\n",
        "    saver = tf.train.Saver()\n",
        "    step = 0\n",
        "    with tf.Session() as sess:\n",
        "        if train_model:\n",
        "            tensorboard_path, saved_model_path, log_path = form_results()\n",
        "            sess.run(init)\n",
        "            writer = tf.summary.FileWriter(logdir=tensorboard_path, graph=sess.graph)\n",
        "            for i in range(n_epochs):\n",
        "                n_batches = int(X_train.shape[0] / batch_size)\n",
        "                print(\"------------------Epoch {}/{}------------------\".format(i, n_epochs))\n",
        "                for b in range(1, n_batches + 1):\n",
        "                    z_real_dist = np.random.randn(batch_size, z_dim) * 5.\n",
        "                    batch_x, _ = x_input.next_batch(batch_size)\n",
        "                    sess.run(autoencoder_optimizer, feed_dict={x_input: batch_x, x_target: batch_x})\n",
        "                    sess.run(discriminator_optimizer,\n",
        "                             feed_dict={x_input: batch_x, x_target: batch_x, real_distribution: z_real_dist})\n",
        "                    sess.run(generator_optimizer, feed_dict={x_input: batch_x, x_target: batch_x})\n",
        "                    if b % 50 == 0:\n",
        "                        a_loss, d_loss, g_loss, summary = sess.run(\n",
        "                            [autoencoder_loss, dc_loss, generator_loss, summary_op],\n",
        "                            feed_dict={x_input: batch_x, x_target: batch_x,\n",
        "                                       real_distribution: z_real_dist})\n",
        "                        writer.add_summary(summary, global_step=step)\n",
        "                        print(\"Epoch: {}, iteration: {}\".format(i, b))\n",
        "                        print(\"Autoencoder Loss: {}\".format(a_loss))\n",
        "                        print(\"Discriminator Loss: {}\".format(d_loss))\n",
        "                        print(\"Generator Loss: {}\".format(g_loss))\n",
        "                        with open(log_path + '/log.txt', 'a') as log:\n",
        "                            log.write(\"Epoch: {}, iteration: {}\\n\".format(i, b))\n",
        "                            log.write(\"Autoencoder Loss: {}\\n\".format(a_loss))\n",
        "                            log.write(\"Discriminator Loss: {}\\n\".format(d_loss))\n",
        "                            log.write(\"Generator Loss: {}\\n\".format(g_loss))\n",
        "                    step += 1\n",
        "\n",
        "                saver.save(sess, save_path=saved_model_path, global_step=step)\n",
        "        else:\n",
        "            # Get the latest results folder\n",
        "            all_results = os.listdir(results_path)\n",
        "            all_results.sort()\n",
        "            saver.restore(sess, save_path=tf.train.latest_checkpoint(results_path + '/' + all_results[-1] + '/Saved_models/'))\n",
        "            generate_image_grid(sess, op=decoder_image)"
      ],
      "execution_count": 0,
      "outputs": []
    },
    {
      "metadata": {
        "id": "VHIv-P6rJfT8",
        "colab_type": "code",
        "colab": {
          "base_uri": "https://localhost:8080/",
          "height": 71
        },
        "outputId": "f3d1a2e7-afc0-46ae-c858-828d27c0c52a"
      },
      "cell_type": "code",
      "source": [
        "from sklearn.cross_validation import train_test_split\n",
        "\n",
        "X_train, X_test= train_test_split(a,test_size=0.2, random_state=1)\n",
        "\n",
        "x_input, X_val= train_test_split(X_train, test_size=0.2, random_state=1)"
      ],
      "execution_count": 26,
      "outputs": [
        {
          "output_type": "stream",
          "text": [
            "/usr/local/lib/python3.6/dist-packages/sklearn/cross_validation.py:41: DeprecationWarning: This module was deprecated in version 0.18 in favor of the model_selection module into which all the refactored classes and functions are moved. Also note that the interface of the new CV iterators are different from that of this module. This module will be removed in 0.20.\n",
            "  \"This module will be removed in 0.20.\", DeprecationWarning)\n"
          ],
          "name": "stderr"
        }
      ]
    },
    {
      "metadata": {
        "id": "XPAtqHXDHSk3",
        "colab_type": "code",
        "colab": {}
      },
      "cell_type": "code",
      "source": [
        "# Parameters\n",
        "input_dim = a.shape[1]\n",
        "n_l1 = 100\n",
        "n_l2 = 100\n",
        "z_dim = 2\n",
        "batch_size = 100\n",
        "n_epochs = 100\n",
        "learning_rate = 0.001\n",
        "beta1 = 0.9\n",
        "results_path = './Results/Adversarial_Autoencoder'\n",
        "\n",
        "# Placeholders for input data and the targets\n",
        "x_input = tf.placeholder(dtype=tf.float32, shape=[batch_size, input_dim], name='Input')\n",
        "x_target = tf.placeholder(dtype=tf.float32, shape=[batch_size, input_dim], name='Target')\n",
        "real_distribution = tf.placeholder(dtype=tf.float32, shape=[batch_size, z_dim], name='Real_distribution')\n",
        "decoder_input = tf.placeholder(dtype=tf.float32, shape=[1, z_dim], name='Decoder_input')"
      ],
      "execution_count": 0,
      "outputs": []
    },
    {
      "metadata": {
        "id": "1dcc-6T2JAEU",
        "colab_type": "code",
        "colab": {
          "base_uri": "https://localhost:8080/",
          "height": 1033
        },
        "outputId": "931575b9-7224-4eab-9bdd-da06399a0f38"
      },
      "cell_type": "code",
      "source": [
        "tf.reset_default_graph() \n",
        "train(train_model=True)"
      ],
      "execution_count": 31,
      "outputs": [
        {
          "output_type": "error",
          "ename": "ValueError",
          "evalue": "ignored",
          "traceback": [
            "\u001b[0;31m---------------------------------------------------------------------------\u001b[0m",
            "\u001b[0;31mValueError\u001b[0m                                Traceback (most recent call last)",
            "\u001b[0;32m<ipython-input-31-91bd87495026>\u001b[0m in \u001b[0;36m<module>\u001b[0;34m()\u001b[0m\n\u001b[1;32m      1\u001b[0m \u001b[0mtf\u001b[0m\u001b[0;34m.\u001b[0m\u001b[0mreset_default_graph\u001b[0m\u001b[0;34m(\u001b[0m\u001b[0;34m)\u001b[0m\u001b[0;34m\u001b[0m\u001b[0m\n\u001b[0;32m----> 2\u001b[0;31m \u001b[0mtrain\u001b[0m\u001b[0;34m(\u001b[0m\u001b[0mtrain_model\u001b[0m\u001b[0;34m=\u001b[0m\u001b[0;32mTrue\u001b[0m\u001b[0;34m)\u001b[0m\u001b[0;34m\u001b[0m\u001b[0m\n\u001b[0m",
            "\u001b[0;32m<ipython-input-25-b36b4e5152bb>\u001b[0m in \u001b[0;36mtrain\u001b[0;34m(train_model)\u001b[0m\n\u001b[1;32m    146\u001b[0m     \"\"\"\n\u001b[1;32m    147\u001b[0m     \u001b[0;32mwith\u001b[0m \u001b[0mtf\u001b[0m\u001b[0;34m.\u001b[0m\u001b[0mvariable_scope\u001b[0m\u001b[0;34m(\u001b[0m\u001b[0mtf\u001b[0m\u001b[0;34m.\u001b[0m\u001b[0mget_variable_scope\u001b[0m\u001b[0;34m(\u001b[0m\u001b[0;34m)\u001b[0m\u001b[0;34m)\u001b[0m\u001b[0;34m:\u001b[0m\u001b[0;34m\u001b[0m\u001b[0m\n\u001b[0;32m--> 148\u001b[0;31m         \u001b[0mencoder_output\u001b[0m \u001b[0;34m=\u001b[0m \u001b[0mencoder\u001b[0m\u001b[0;34m(\u001b[0m\u001b[0mx_input\u001b[0m\u001b[0;34m)\u001b[0m\u001b[0;34m\u001b[0m\u001b[0m\n\u001b[0m\u001b[1;32m    149\u001b[0m         \u001b[0mdecoder_output\u001b[0m \u001b[0;34m=\u001b[0m \u001b[0mdecoder\u001b[0m\u001b[0;34m(\u001b[0m\u001b[0mencoder_output\u001b[0m\u001b[0;34m)\u001b[0m\u001b[0;34m\u001b[0m\u001b[0m\n\u001b[1;32m    150\u001b[0m \u001b[0;34m\u001b[0m\u001b[0m\n",
            "\u001b[0;32m<ipython-input-25-b36b4e5152bb>\u001b[0m in \u001b[0;36mencoder\u001b[0;34m(x, reuse)\u001b[0m\n\u001b[1;32m    100\u001b[0m         \u001b[0mtf\u001b[0m\u001b[0;34m.\u001b[0m\u001b[0mget_variable_scope\u001b[0m\u001b[0;34m(\u001b[0m\u001b[0;34m)\u001b[0m\u001b[0;34m.\u001b[0m\u001b[0mreuse_variables\u001b[0m\u001b[0;34m(\u001b[0m\u001b[0;34m)\u001b[0m\u001b[0;34m\u001b[0m\u001b[0m\n\u001b[1;32m    101\u001b[0m     \u001b[0;32mwith\u001b[0m \u001b[0mtf\u001b[0m\u001b[0;34m.\u001b[0m\u001b[0mname_scope\u001b[0m\u001b[0;34m(\u001b[0m\u001b[0;34m'Encoder'\u001b[0m\u001b[0;34m)\u001b[0m\u001b[0;34m:\u001b[0m\u001b[0;34m\u001b[0m\u001b[0m\n\u001b[0;32m--> 102\u001b[0;31m         \u001b[0me_dense_1\u001b[0m \u001b[0;34m=\u001b[0m \u001b[0mtf\u001b[0m\u001b[0;34m.\u001b[0m\u001b[0mnn\u001b[0m\u001b[0;34m.\u001b[0m\u001b[0mrelu\u001b[0m\u001b[0;34m(\u001b[0m\u001b[0mdense\u001b[0m\u001b[0;34m(\u001b[0m\u001b[0mx\u001b[0m\u001b[0;34m,\u001b[0m \u001b[0minput_dim\u001b[0m\u001b[0;34m,\u001b[0m \u001b[0mn_l1\u001b[0m\u001b[0;34m,\u001b[0m \u001b[0;34m'e_dense_1'\u001b[0m\u001b[0;34m)\u001b[0m\u001b[0;34m)\u001b[0m\u001b[0;34m\u001b[0m\u001b[0m\n\u001b[0m\u001b[1;32m    103\u001b[0m         \u001b[0me_dense_2\u001b[0m \u001b[0;34m=\u001b[0m \u001b[0mtf\u001b[0m\u001b[0;34m.\u001b[0m\u001b[0mnn\u001b[0m\u001b[0;34m.\u001b[0m\u001b[0mrelu\u001b[0m\u001b[0;34m(\u001b[0m\u001b[0mdense\u001b[0m\u001b[0;34m(\u001b[0m\u001b[0me_dense_1\u001b[0m\u001b[0;34m,\u001b[0m \u001b[0mn_l1\u001b[0m\u001b[0;34m,\u001b[0m \u001b[0mn_l2\u001b[0m\u001b[0;34m,\u001b[0m \u001b[0;34m'e_dense_2'\u001b[0m\u001b[0;34m)\u001b[0m\u001b[0;34m)\u001b[0m\u001b[0;34m\u001b[0m\u001b[0m\n\u001b[1;32m    104\u001b[0m         \u001b[0mlatent_variable\u001b[0m \u001b[0;34m=\u001b[0m \u001b[0mdense\u001b[0m\u001b[0;34m(\u001b[0m\u001b[0me_dense_2\u001b[0m\u001b[0;34m,\u001b[0m \u001b[0mn_l2\u001b[0m\u001b[0;34m,\u001b[0m \u001b[0mz_dim\u001b[0m\u001b[0;34m,\u001b[0m \u001b[0;34m'e_latent_variable'\u001b[0m\u001b[0;34m)\u001b[0m\u001b[0;34m\u001b[0m\u001b[0m\n",
            "\u001b[0;32m<ipython-input-25-b36b4e5152bb>\u001b[0m in \u001b[0;36mdense\u001b[0;34m(x, n1, n2, name)\u001b[0m\n\u001b[1;32m     85\u001b[0m                                   initializer=tf.random_normal_initializer(mean=0., stddev=0.01))\n\u001b[1;32m     86\u001b[0m         \u001b[0mbias\u001b[0m \u001b[0;34m=\u001b[0m \u001b[0mtf\u001b[0m\u001b[0;34m.\u001b[0m\u001b[0mget_variable\u001b[0m\u001b[0;34m(\u001b[0m\u001b[0;34m\"bias\"\u001b[0m\u001b[0;34m,\u001b[0m \u001b[0mshape\u001b[0m\u001b[0;34m=\u001b[0m\u001b[0;34m[\u001b[0m\u001b[0mn2\u001b[0m\u001b[0;34m]\u001b[0m\u001b[0;34m,\u001b[0m \u001b[0minitializer\u001b[0m\u001b[0;34m=\u001b[0m\u001b[0mtf\u001b[0m\u001b[0;34m.\u001b[0m\u001b[0mconstant_initializer\u001b[0m\u001b[0;34m(\u001b[0m\u001b[0;36m0.0\u001b[0m\u001b[0;34m)\u001b[0m\u001b[0;34m)\u001b[0m\u001b[0;34m\u001b[0m\u001b[0m\n\u001b[0;32m---> 87\u001b[0;31m         \u001b[0mout\u001b[0m \u001b[0;34m=\u001b[0m \u001b[0mtf\u001b[0m\u001b[0;34m.\u001b[0m\u001b[0madd\u001b[0m\u001b[0;34m(\u001b[0m\u001b[0mtf\u001b[0m\u001b[0;34m.\u001b[0m\u001b[0mmatmul\u001b[0m\u001b[0;34m(\u001b[0m\u001b[0mx\u001b[0m\u001b[0;34m,\u001b[0m \u001b[0mweights\u001b[0m\u001b[0;34m)\u001b[0m\u001b[0;34m,\u001b[0m \u001b[0mbias\u001b[0m\u001b[0;34m,\u001b[0m \u001b[0mname\u001b[0m\u001b[0;34m=\u001b[0m\u001b[0;34m'matmul'\u001b[0m\u001b[0;34m)\u001b[0m\u001b[0;34m\u001b[0m\u001b[0m\n\u001b[0m\u001b[1;32m     88\u001b[0m         \u001b[0;32mreturn\u001b[0m \u001b[0mout\u001b[0m\u001b[0;34m\u001b[0m\u001b[0m\n\u001b[1;32m     89\u001b[0m \u001b[0;34m\u001b[0m\u001b[0m\n",
            "\u001b[0;32m/usr/local/lib/python3.6/dist-packages/tensorflow/python/ops/math_ops.py\u001b[0m in \u001b[0;36mmatmul\u001b[0;34m(a, b, transpose_a, transpose_b, adjoint_a, adjoint_b, a_is_sparse, b_is_sparse, name)\u001b[0m\n\u001b[1;32m   2039\u001b[0m       \u001b[0mare\u001b[0m \u001b[0mboth\u001b[0m \u001b[0mset\u001b[0m \u001b[0mto\u001b[0m \u001b[0;32mTrue\u001b[0m\u001b[0;34m.\u001b[0m\u001b[0;34m\u001b[0m\u001b[0m\n\u001b[1;32m   2040\u001b[0m   \"\"\"\n\u001b[0;32m-> 2041\u001b[0;31m   \u001b[0;32mwith\u001b[0m \u001b[0mops\u001b[0m\u001b[0;34m.\u001b[0m\u001b[0mname_scope\u001b[0m\u001b[0;34m(\u001b[0m\u001b[0mname\u001b[0m\u001b[0;34m,\u001b[0m \u001b[0;34m\"MatMul\"\u001b[0m\u001b[0;34m,\u001b[0m \u001b[0;34m[\u001b[0m\u001b[0ma\u001b[0m\u001b[0;34m,\u001b[0m \u001b[0mb\u001b[0m\u001b[0;34m]\u001b[0m\u001b[0;34m)\u001b[0m \u001b[0;32mas\u001b[0m \u001b[0mname\u001b[0m\u001b[0;34m:\u001b[0m\u001b[0;34m\u001b[0m\u001b[0m\n\u001b[0m\u001b[1;32m   2042\u001b[0m     \u001b[0;32mif\u001b[0m \u001b[0mtranspose_a\u001b[0m \u001b[0;32mand\u001b[0m \u001b[0madjoint_a\u001b[0m\u001b[0;34m:\u001b[0m\u001b[0;34m\u001b[0m\u001b[0m\n\u001b[1;32m   2043\u001b[0m       \u001b[0;32mraise\u001b[0m \u001b[0mValueError\u001b[0m\u001b[0;34m(\u001b[0m\u001b[0;34m\"Only one of transpose_a and adjoint_a can be True.\"\u001b[0m\u001b[0;34m)\u001b[0m\u001b[0;34m\u001b[0m\u001b[0m\n",
            "\u001b[0;32m/usr/local/lib/python3.6/dist-packages/tensorflow/python/framework/ops.py\u001b[0m in \u001b[0;36m__enter__\u001b[0;34m(self)\u001b[0m\n\u001b[1;32m   5768\u001b[0m       \u001b[0;32mif\u001b[0m \u001b[0mself\u001b[0m\u001b[0;34m.\u001b[0m\u001b[0m_values\u001b[0m \u001b[0;32mis\u001b[0m \u001b[0;32mNone\u001b[0m\u001b[0;34m:\u001b[0m\u001b[0;34m\u001b[0m\u001b[0m\n\u001b[1;32m   5769\u001b[0m         \u001b[0mself\u001b[0m\u001b[0;34m.\u001b[0m\u001b[0m_values\u001b[0m \u001b[0;34m=\u001b[0m \u001b[0;34m[\u001b[0m\u001b[0;34m]\u001b[0m\u001b[0;34m\u001b[0m\u001b[0m\n\u001b[0;32m-> 5770\u001b[0;31m       \u001b[0mg\u001b[0m \u001b[0;34m=\u001b[0m \u001b[0m_get_graph_from_inputs\u001b[0m\u001b[0;34m(\u001b[0m\u001b[0mself\u001b[0m\u001b[0;34m.\u001b[0m\u001b[0m_values\u001b[0m\u001b[0;34m)\u001b[0m\u001b[0;34m\u001b[0m\u001b[0m\n\u001b[0m\u001b[1;32m   5771\u001b[0m       \u001b[0mself\u001b[0m\u001b[0;34m.\u001b[0m\u001b[0m_g_manager\u001b[0m \u001b[0;34m=\u001b[0m \u001b[0mg\u001b[0m\u001b[0;34m.\u001b[0m\u001b[0mas_default\u001b[0m\u001b[0;34m(\u001b[0m\u001b[0;34m)\u001b[0m\u001b[0;34m\u001b[0m\u001b[0m\n\u001b[1;32m   5772\u001b[0m       \u001b[0mself\u001b[0m\u001b[0;34m.\u001b[0m\u001b[0m_g_manager\u001b[0m\u001b[0;34m.\u001b[0m\u001b[0m__enter__\u001b[0m\u001b[0;34m(\u001b[0m\u001b[0;34m)\u001b[0m\u001b[0;34m\u001b[0m\u001b[0m\n",
            "\u001b[0;32m/usr/local/lib/python3.6/dist-packages/tensorflow/python/framework/ops.py\u001b[0m in \u001b[0;36m_get_graph_from_inputs\u001b[0;34m(op_input_list, graph)\u001b[0m\n\u001b[1;32m   5428\u001b[0m         \u001b[0mgraph\u001b[0m \u001b[0;34m=\u001b[0m \u001b[0mgraph_element\u001b[0m\u001b[0;34m.\u001b[0m\u001b[0mgraph\u001b[0m\u001b[0;34m\u001b[0m\u001b[0m\n\u001b[1;32m   5429\u001b[0m       \u001b[0;32melif\u001b[0m \u001b[0moriginal_graph_element\u001b[0m \u001b[0;32mis\u001b[0m \u001b[0;32mnot\u001b[0m \u001b[0;32mNone\u001b[0m\u001b[0;34m:\u001b[0m\u001b[0;34m\u001b[0m\u001b[0m\n\u001b[0;32m-> 5430\u001b[0;31m         \u001b[0m_assert_same_graph\u001b[0m\u001b[0;34m(\u001b[0m\u001b[0moriginal_graph_element\u001b[0m\u001b[0;34m,\u001b[0m \u001b[0mgraph_element\u001b[0m\u001b[0;34m)\u001b[0m\u001b[0;34m\u001b[0m\u001b[0m\n\u001b[0m\u001b[1;32m   5431\u001b[0m       \u001b[0;32melif\u001b[0m \u001b[0mgraph_element\u001b[0m\u001b[0;34m.\u001b[0m\u001b[0mgraph\u001b[0m \u001b[0;32mis\u001b[0m \u001b[0;32mnot\u001b[0m \u001b[0mgraph\u001b[0m\u001b[0;34m:\u001b[0m\u001b[0;34m\u001b[0m\u001b[0m\n\u001b[1;32m   5432\u001b[0m         \u001b[0;32mraise\u001b[0m \u001b[0mValueError\u001b[0m\u001b[0;34m(\u001b[0m\u001b[0;34m\"%s is not from the passed-in graph.\"\u001b[0m \u001b[0;34m%\u001b[0m \u001b[0mgraph_element\u001b[0m\u001b[0;34m)\u001b[0m\u001b[0;34m\u001b[0m\u001b[0m\n",
            "\u001b[0;32m/usr/local/lib/python3.6/dist-packages/tensorflow/python/framework/ops.py\u001b[0m in \u001b[0;36m_assert_same_graph\u001b[0;34m(original_item, item)\u001b[0m\n\u001b[1;32m   5364\u001b[0m   \u001b[0;32mif\u001b[0m \u001b[0moriginal_item\u001b[0m\u001b[0;34m.\u001b[0m\u001b[0mgraph\u001b[0m \u001b[0;32mis\u001b[0m \u001b[0;32mnot\u001b[0m \u001b[0mitem\u001b[0m\u001b[0;34m.\u001b[0m\u001b[0mgraph\u001b[0m\u001b[0;34m:\u001b[0m\u001b[0;34m\u001b[0m\u001b[0m\n\u001b[1;32m   5365\u001b[0m     raise ValueError(\"%s must be from the same graph as %s.\" % (item,\n\u001b[0;32m-> 5366\u001b[0;31m                                                                 original_item))\n\u001b[0m\u001b[1;32m   5367\u001b[0m \u001b[0;34m\u001b[0m\u001b[0m\n\u001b[1;32m   5368\u001b[0m \u001b[0;34m\u001b[0m\u001b[0m\n",
            "\u001b[0;31mValueError\u001b[0m: Tensor(\"e_dense_1/weights:0\", shape=(3721, 100), dtype=float32_ref) must be from the same graph as Tensor(\"Input_1:0\", shape=(100, 3721), dtype=float32)."
          ]
        }
      ]
    },
    {
      "metadata": {
        "id": "t1zD9IDZ3zQL",
        "colab_type": "code",
        "colab": {
          "base_uri": "https://localhost:8080/",
          "height": 1414
        },
        "outputId": "3285b525-c324-4b61-b7be-62d42e4f12d1"
      },
      "cell_type": "code",
      "source": [
        "!python3 adversarial_autoencoder.py --train True"
      ],
      "execution_count": 32,
      "outputs": [
        {
          "output_type": "stream",
          "text": [
            "/usr/local/lib/python3.6/dist-packages/h5py/__init__.py:36: FutureWarning: Conversion of the second argument of issubdtype from `float` to `np.floating` is deprecated. In future, it will be treated as `np.float64 == np.dtype(float).type`.\r\n",
            "  from ._conv import register_converters as _register_converters\n",
            "WARNING:tensorflow:From adversarial_autoencoder.py:13: read_data_sets (from tensorflow.contrib.learn.python.learn.datasets.mnist) is deprecated and will be removed in a future version.\n",
            "Instructions for updating:\n",
            "Please use alternatives such as official/mnist/dataset.py from tensorflow/models.\n",
            "WARNING:tensorflow:From /usr/local/lib/python3.6/dist-packages/tensorflow/contrib/learn/python/learn/datasets/mnist.py:260: maybe_download (from tensorflow.contrib.learn.python.learn.datasets.base) is deprecated and will be removed in a future version.\n",
            "Instructions for updating:\n",
            "Please write your own downloading logic.\n",
            "WARNING:tensorflow:From /usr/local/lib/python3.6/dist-packages/tensorflow/contrib/learn/python/learn/datasets/base.py:252: _internal_retry.<locals>.wrap.<locals>.wrapped_fn (from tensorflow.contrib.learn.python.learn.datasets.base) is deprecated and will be removed in a future version.\n",
            "Instructions for updating:\n",
            "Please use urllib or similar directly.\n",
            "Successfully downloaded train-images-idx3-ubyte.gz 9912422 bytes.\n",
            "WARNING:tensorflow:From /usr/local/lib/python3.6/dist-packages/tensorflow/contrib/learn/python/learn/datasets/mnist.py:262: extract_images (from tensorflow.contrib.learn.python.learn.datasets.mnist) is deprecated and will be removed in a future version.\n",
            "Instructions for updating:\n",
            "Please use tf.data to implement this functionality.\n",
            "Extracting ./Data/train-images-idx3-ubyte.gz\n",
            "Successfully downloaded train-labels-idx1-ubyte.gz 28881 bytes.\n",
            "WARNING:tensorflow:From /usr/local/lib/python3.6/dist-packages/tensorflow/contrib/learn/python/learn/datasets/mnist.py:267: extract_labels (from tensorflow.contrib.learn.python.learn.datasets.mnist) is deprecated and will be removed in a future version.\n",
            "Instructions for updating:\n",
            "Please use tf.data to implement this functionality.\n",
            "Extracting ./Data/train-labels-idx1-ubyte.gz\n",
            "WARNING:tensorflow:From /usr/local/lib/python3.6/dist-packages/tensorflow/contrib/learn/python/learn/datasets/mnist.py:110: dense_to_one_hot (from tensorflow.contrib.learn.python.learn.datasets.mnist) is deprecated and will be removed in a future version.\n",
            "Instructions for updating:\n",
            "Please use tf.one_hot on tensors.\n",
            "Successfully downloaded t10k-images-idx3-ubyte.gz 1648877 bytes.\n",
            "Extracting ./Data/t10k-images-idx3-ubyte.gz\n",
            "Successfully downloaded t10k-labels-idx1-ubyte.gz 4542 bytes.\n",
            "Extracting ./Data/t10k-labels-idx1-ubyte.gz\n",
            "WARNING:tensorflow:From /usr/local/lib/python3.6/dist-packages/tensorflow/contrib/learn/python/learn/datasets/mnist.py:290: DataSet.__init__ (from tensorflow.contrib.learn.python.learn.datasets.mnist) is deprecated and will be removed in a future version.\n",
            "Instructions for updating:\n",
            "Please use alternatives such as official/mnist/dataset.py from tensorflow/models.\n",
            "2018-05-16 07:34:47.190525: I tensorflow/stream_executor/cuda/cuda_gpu_executor.cc:898] successful NUMA node read from SysFS had negative value (-1), but there must be at least one NUMA node, so returning NUMA node zero\n",
            "2018-05-16 07:34:47.190965: I tensorflow/core/common_runtime/gpu/gpu_device.cc:1344] Found device 0 with properties: \n",
            "name: Tesla K80 major: 3 minor: 7 memoryClockRate(GHz): 0.8235\n",
            "pciBusID: 0000:00:04.0\n",
            "totalMemory: 11.17GiB freeMemory: 11.10GiB\n",
            "2018-05-16 07:34:47.191005: I tensorflow/core/common_runtime/gpu/gpu_device.cc:1423] Adding visible gpu devices: 0\n",
            "2018-05-16 07:34:47.428190: I tensorflow/core/common_runtime/gpu/gpu_device.cc:911] Device interconnect StreamExecutor with strength 1 edge matrix:\n",
            "2018-05-16 07:34:47.428249: I tensorflow/core/common_runtime/gpu/gpu_device.cc:917]      0 \n",
            "2018-05-16 07:34:47.428277: I tensorflow/core/common_runtime/gpu/gpu_device.cc:930] 0:   N \n",
            "2018-05-16 07:34:47.428616: I tensorflow/core/common_runtime/gpu/gpu_device.cc:1041] Created TensorFlow device (/job:localhost/replica:0/task:0/device:GPU:0 with 10765 MB memory) -> physical GPU (device: 0, name: Tesla K80, pci bus id: 0000:00:04.0, compute capability: 3.7)\n",
            "------------------Epoch 0/100------------------\n",
            "Epoch: 0, iteration: 50\n",
            "Autoencoder Loss: 0.068834587931633\n",
            "Discriminator Loss: 1.1232426166534424\n",
            "Generator Loss: 1.140510082244873\n",
            "Epoch: 0, iteration: 100\n",
            "Autoencoder Loss: 0.06161390617489815\n",
            "Discriminator Loss: 0.6890448331832886\n",
            "Generator Loss: 0.9178003072738647\n",
            "Epoch: 0, iteration: 150\n",
            "Autoencoder Loss: 0.06393840909004211\n",
            "Discriminator Loss: 1.2263400554656982\n",
            "Generator Loss: 1.8126641511917114\n",
            "Epoch: 0, iteration: 200\n",
            "Autoencoder Loss: 0.05874786898493767\n",
            "Discriminator Loss: 0.7781753540039062\n",
            "Generator Loss: 1.1355420351028442\n",
            "Epoch: 0, iteration: 250\n",
            "Autoencoder Loss: 0.059107132256031036\n",
            "Discriminator Loss: 0.9676837921142578\n",
            "Generator Loss: 1.1269699335098267\n",
            "Epoch: 0, iteration: 300\n",
            "Autoencoder Loss: 0.05612283572554588\n",
            "Discriminator Loss: 0.9091423153877258\n",
            "Generator Loss: 1.546984076499939\n",
            "Epoch: 0, iteration: 350\n",
            "Autoencoder Loss: 0.05312090367078781\n",
            "Discriminator Loss: 1.3526571989059448\n",
            "Generator Loss: 0.7582019567489624\n",
            "Epoch: 0, iteration: 400\n",
            "Autoencoder Loss: 0.05169897526502609\n",
            "Discriminator Loss: 1.4284100532531738\n",
            "Generator Loss: 0.8215876817703247\n",
            "^C\n",
            "Traceback (most recent call last):\n",
            "  File \"adversarial_autoencoder.py\", line 246, in <module>\n",
            "    train(train_model=True)\n",
            "  File \"adversarial_autoencoder.py\", line 214, in train\n",
            "    z_real_dist = np.random.randn(batch_size, z_dim) * 5.\n",
            "KeyboardInterrupt\n"
          ],
          "name": "stdout"
        }
      ]
    },
    {
      "metadata": {
        "id": "p2lfvZA04JeC",
        "colab_type": "code",
        "colab": {
          "base_uri": "https://localhost:8080/",
          "height": 1662
        },
        "outputId": "ceaf4777-0e09-40d7-dadb-e12a279c7a5e"
      },
      "cell_type": "code",
      "source": [
        "import tensorflow as tf\n",
        "import numpy as np\n",
        "import datetime\n",
        "import os\n",
        "import matplotlib.pyplot as plt\n",
        "from matplotlib import gridspec\n",
        "from tensorflow.examples.tutorials.mnist import input_data\n",
        "\n",
        "# Progressbar\n",
        "# bar = progressbar.ProgressBar(widgets=['[', progressbar.Timer(), ']', progressbar.Bar(), '(', progressbar.ETA(), ')'])\n",
        "\n",
        "# Get the MNIST data\n",
        "mnist = input_data.read_data_sets('./Data', one_hot=True)\n",
        "\n",
        "# Parameters\n",
        "input_dim = 784\n",
        "n_l1 = 1000\n",
        "n_l2 = 1000\n",
        "z_dim = 2\n",
        "batch_size = 100\n",
        "n_epochs = 100\n",
        "learning_rate = 0.001\n",
        "beta1 = 0.9\n",
        "results_path = './Results/Adversarial_Autoencoder'\n",
        "\n",
        "# Placeholders for input data and the targets\n",
        "x_input = tf.placeholder(dtype=tf.float32, shape=[batch_size, input_dim], name='Input')\n",
        "x_target = tf.placeholder(dtype=tf.float32, shape=[batch_size, input_dim], name='Target')\n",
        "real_distribution = tf.placeholder(dtype=tf.float32, shape=[batch_size, z_dim], name='Real_distribution')\n",
        "decoder_input = tf.placeholder(dtype=tf.float32, shape=[1, z_dim], name='Decoder_input')\n",
        "\n",
        "\n",
        "def form_results():\n",
        "    \"\"\"\n",
        "    Forms folders for each run to store the tensorboard files, saved models and the log files.\n",
        "    :return: three string pointing to tensorboard, saved models and log paths respectively.\n",
        "    \"\"\"\n",
        "    folder_name = \"/{0}_{1}_{2}_{3}_{4}_{5}_Adversarial_Autoencoder\". \\\n",
        "        format(datetime.datetime.now(), z_dim, learning_rate, batch_size, n_epochs, beta1)\n",
        "    tensorboard_path = results_path + folder_name + '/Tensorboard'\n",
        "    saved_model_path = results_path + folder_name + '/Saved_models/'\n",
        "    log_path = results_path + folder_name + '/log'\n",
        "    if not os.path.exists(results_path + folder_name):\n",
        "        os.mkdir(results_path + folder_name)\n",
        "        os.mkdir(tensorboard_path)\n",
        "        os.mkdir(saved_model_path)\n",
        "        os.mkdir(log_path)\n",
        "    return tensorboard_path, saved_model_path, log_path\n",
        "\n",
        "\n",
        "def generate_image_grid(sess, op):\n",
        "    \"\"\"\n",
        "    Generates a grid of images by passing a set of numbers to the decoder and getting its output.\n",
        "    :param sess: Tensorflow Session required to get the decoder output\n",
        "    :param op: Operation that needs to be called inorder to get the decoder output\n",
        "    :return: None, displays a matplotlib window with all the merged images.\n",
        "    \"\"\"\n",
        "    x_points = np.arange(-10, 10, 1.5).astype(np.float32)\n",
        "    y_points = np.arange(-10, 10, 1.5).astype(np.float32)\n",
        "\n",
        "    nx, ny = len(x_points), len(y_points)\n",
        "    plt.subplot()\n",
        "    gs = gridspec.GridSpec(nx, ny, hspace=0.05, wspace=0.05)\n",
        "\n",
        "    for i, g in enumerate(gs):\n",
        "        z = np.concatenate(([x_points[int(i / ny)]], [y_points[int(i % nx)]]))\n",
        "        z = np.reshape(z, (1, 2))\n",
        "        x = sess.run(op, feed_dict={decoder_input: z})\n",
        "        ax = plt.subplot(g)\n",
        "        img = np.array(x.tolist()).reshape(28, 28)\n",
        "        ax.imshow(img, cmap='gray')\n",
        "        ax.set_xticks([])\n",
        "        ax.set_yticks([])\n",
        "        ax.set_aspect('auto')\n",
        "    plt.show()\n",
        "\n",
        "\n",
        "def dense(x, n1, n2, name):\n",
        "    \"\"\"\n",
        "    Used to create a dense layer.\n",
        "    :param x: input tensor to the dense layer\n",
        "    :param n1: no. of input neurons\n",
        "    :param n2: no. of output neurons\n",
        "    :param name: name of the entire dense layer.i.e, variable scope name.\n",
        "    :return: tensor with shape [batch_size, n2]\n",
        "    \"\"\"\n",
        "    with tf.variable_scope(name, reuse=None):\n",
        "        weights = tf.get_variable(\"weights\", shape=[n1, n2],\n",
        "                                  initializer=tf.random_normal_initializer(mean=0., stddev=0.01))\n",
        "        bias = tf.get_variable(\"bias\", shape=[n2], initializer=tf.constant_initializer(0.0))\n",
        "        out = tf.add(tf.matmul(x, weights), bias, name='matmul')\n",
        "        return out\n",
        "\n",
        "\n",
        "# The autoencoder network\n",
        "def encoder(x, reuse=False):\n",
        "    \"\"\"\n",
        "    Encode part of the autoencoder.\n",
        "    :param x: input to the autoencoder\n",
        "    :param reuse: True -> Reuse the encoder variables, False -> Create or search of variables before creating\n",
        "    :return: tensor which is the hidden latent variable of the autoencoder.\n",
        "    \"\"\"\n",
        "    if reuse:\n",
        "        tf.get_variable_scope().reuse_variables()\n",
        "    with tf.name_scope('Encoder'):\n",
        "        e_dense_1 = tf.nn.relu(dense(x, input_dim, n_l1, 'e_dense_1'))\n",
        "        e_dense_2 = tf.nn.relu(dense(e_dense_1, n_l1, n_l2, 'e_dense_2'))\n",
        "        latent_variable = dense(e_dense_2, n_l2, z_dim, 'e_latent_variable')\n",
        "        return latent_variable\n",
        "\n",
        "\n",
        "def decoder(x, reuse=False):\n",
        "    \"\"\"\n",
        "    Decoder part of the autoencoder.\n",
        "    :param x: input to the decoder\n",
        "    :param reuse: True -> Reuse the decoder variables, False -> Create or search of variables before creating\n",
        "    :return: tensor which should ideally be the input given to the encoder.\n",
        "    \"\"\"\n",
        "    if reuse:\n",
        "        tf.get_variable_scope().reuse_variables()\n",
        "    with tf.name_scope('Decoder'):\n",
        "        d_dense_1 = tf.nn.relu(dense(x, z_dim, n_l2, 'd_dense_1'))\n",
        "        d_dense_2 = tf.nn.relu(dense(d_dense_1, n_l2, n_l1, 'd_dense_2'))\n",
        "        output = tf.nn.sigmoid(dense(d_dense_2, n_l1, input_dim, 'd_output'))\n",
        "        return output\n",
        "\n",
        "\n",
        "def discriminator(x, reuse=False):\n",
        "    \"\"\"\n",
        "    Discriminator that is used to match the posterior distribution with a given prior distribution.\n",
        "    :param x: tensor of shape [batch_size, z_dim]\n",
        "    :param reuse: True -> Reuse the discriminator variables,\n",
        "                  False -> Create or search of variables before creating\n",
        "    :return: tensor of shape [batch_size, 1]\n",
        "    \"\"\"\n",
        "    if reuse:\n",
        "        tf.get_variable_scope().reuse_variables()\n",
        "    with tf.name_scope('Discriminator'):\n",
        "        dc_den1 = tf.nn.relu(dense(x, z_dim, n_l1, name='dc_den1'))\n",
        "        dc_den2 = tf.nn.relu(dense(dc_den1, n_l1, n_l2, name='dc_den2'))\n",
        "        output = dense(dc_den2, n_l2, 1, name='dc_output')\n",
        "        return output\n",
        "\n",
        "\n",
        "def train(train_model=True):\n",
        "    \"\"\"\n",
        "    Used to train the autoencoder by passing in the necessary inputs.\n",
        "    :param train_model: True -> Train the model, False -> Load the latest trained model and show the image grid.\n",
        "    :return: does not return anything\n",
        "    \"\"\"\n",
        "    with tf.variable_scope(tf.get_variable_scope()):\n",
        "        encoder_output = encoder(x_input)\n",
        "        decoder_output = decoder(encoder_output)\n",
        "\n",
        "    with tf.variable_scope(tf.get_variable_scope()):\n",
        "        d_real = discriminator(real_distribution)\n",
        "        d_fake = discriminator(encoder_output, reuse=True)\n",
        "\n",
        "    with tf.variable_scope(tf.get_variable_scope()):\n",
        "        decoder_image = decoder(decoder_input, reuse=True)\n",
        "\n",
        "    # Autoencoder loss\n",
        "    autoencoder_loss = tf.reduce_mean(tf.square(x_target - decoder_output))\n",
        "\n",
        "    # Discrimminator Loss\n",
        "    dc_loss_real = tf.reduce_mean(tf.nn.sigmoid_cross_entropy_with_logits(labels=tf.ones_like(d_real), logits=d_real))\n",
        "    dc_loss_fake = tf.reduce_mean(tf.nn.sigmoid_cross_entropy_with_logits(labels=tf.zeros_like(d_fake), logits=d_fake))\n",
        "    dc_loss = dc_loss_fake + dc_loss_real\n",
        "\n",
        "    # Generator loss\n",
        "    generator_loss = tf.reduce_mean(\n",
        "        tf.nn.sigmoid_cross_entropy_with_logits(labels=tf.ones_like(d_fake), logits=d_fake))\n",
        "\n",
        "    all_variables = tf.trainable_variables()\n",
        "    dc_var = [var for var in all_variables if 'dc_' in var.name]\n",
        "    en_var = [var for var in all_variables if 'e_' in var.name]\n",
        "\n",
        "    # Optimizers\n",
        "    autoencoder_optimizer = tf.train.AdamOptimizer(learning_rate=learning_rate,\n",
        "                                                   beta1=beta1).minimize(autoencoder_loss)\n",
        "    discriminator_optimizer = tf.train.AdamOptimizer(learning_rate=learning_rate,\n",
        "                                                     beta1=beta1).minimize(dc_loss, var_list=dc_var)\n",
        "    generator_optimizer = tf.train.AdamOptimizer(learning_rate=learning_rate,\n",
        "                                                 beta1=beta1).minimize(generator_loss, var_list=en_var)\n",
        "\n",
        "    init = tf.global_variables_initializer()\n",
        "\n",
        "    # Reshape immages to display them\n",
        "    input_images = tf.reshape(x_input, [-1, 28, 28, 1])\n",
        "    generated_images = tf.reshape(decoder_output, [-1, 28, 28, 1])\n",
        "\n",
        "    # Tensorboard visualization\n",
        "    tf.summary.scalar(name='Autoencoder Loss', tensor=autoencoder_loss)\n",
        "    tf.summary.scalar(name='Discriminator Loss', tensor=dc_loss)\n",
        "    tf.summary.scalar(name='Generator Loss', tensor=generator_loss)\n",
        "    tf.summary.histogram(name='Encoder Distribution', values=encoder_output)\n",
        "    tf.summary.histogram(name='Real Distribution', values=real_distribution)\n",
        "    tf.summary.image(name='Input Images', tensor=input_images, max_outputs=10)\n",
        "    tf.summary.image(name='Generated Images', tensor=generated_images, max_outputs=10)\n",
        "    summary_op = tf.summary.merge_all()\n",
        "\n",
        "    # Saving the model\n",
        "    saver = tf.train.Saver()\n",
        "    step = 0\n",
        "    with tf.Session() as sess:\n",
        "        if train_model:\n",
        "            tensorboard_path, saved_model_path, log_path = form_results()\n",
        "            sess.run(init)\n",
        "            writer = tf.summary.FileWriter(logdir=tensorboard_path, graph=sess.graph)\n",
        "            for i in range(n_epochs):\n",
        "                n_batches = int(mnist.train.num_examples / batch_size)\n",
        "                print(\"------------------Epoch {}/{}------------------\".format(i, n_epochs))\n",
        "                for b in range(1, n_batches + 1):\n",
        "                    z_real_dist = np.random.randn(batch_size, z_dim) * 5.\n",
        "                    batch_x, _ = mnist.train.next_batch(batch_size)\n",
        "                    sess.run(autoencoder_optimizer, feed_dict={x_input: batch_x, x_target: batch_x})\n",
        "                    sess.run(discriminator_optimizer,\n",
        "                             feed_dict={x_input: batch_x, x_target: batch_x, real_distribution: z_real_dist})\n",
        "                    sess.run(generator_optimizer, feed_dict={x_input: batch_x, x_target: batch_x})\n",
        "                    if b % 50 == 0:\n",
        "                        a_loss, d_loss, g_loss, summary = sess.run(\n",
        "                            [autoencoder_loss, dc_loss, generator_loss, summary_op],\n",
        "                            feed_dict={x_input: batch_x, x_target: batch_x,\n",
        "                                       real_distribution: z_real_dist})\n",
        "                        writer.add_summary(summary, global_step=step)\n",
        "                        print(\"Epoch: {}, iteration: {}\".format(i, b))\n",
        "                        print(\"Autoencoder Loss: {}\".format(a_loss))\n",
        "                        print(\"Discriminator Loss: {}\".format(d_loss))\n",
        "                        print(\"Generator Loss: {}\".format(g_loss))\n",
        "                        with open(log_path + '/log.txt', 'a') as log:\n",
        "                            log.write(\"Epoch: {}, iteration: {}\\n\".format(i, b))\n",
        "                            log.write(\"Autoencoder Loss: {}\\n\".format(a_loss))\n",
        "                            log.write(\"Discriminator Loss: {}\\n\".format(d_loss))\n",
        "                            log.write(\"Generator Loss: {}\\n\".format(g_loss))\n",
        "                    step += 1\n",
        "\n",
        "                saver.save(sess, save_path=saved_model_path, global_step=step)\n",
        "        else:\n",
        "            # Get the latest results folder\n",
        "            all_results = os.listdir(results_path)\n",
        "            all_results.sort()\n",
        "            saver.restore(sess, save_path=tf.train.latest_checkpoint(results_path + '/' + all_results[-1] + '/Saved_models/'))\n",
        "            generate_image_grid(sess, op=decoder_image)\n",
        "\n",
        "if __name__ == '__main__':\n",
        "    train(train_model=True)"
      ],
      "execution_count": 33,
      "outputs": [
        {
          "output_type": "stream",
          "text": [
            "WARNING:tensorflow:From <ipython-input-33-678e2a34ea5f>:13: read_data_sets (from tensorflow.contrib.learn.python.learn.datasets.mnist) is deprecated and will be removed in a future version.\n",
            "Instructions for updating:\n",
            "Please use alternatives such as official/mnist/dataset.py from tensorflow/models.\n",
            "WARNING:tensorflow:From /usr/local/lib/python3.6/dist-packages/tensorflow/contrib/learn/python/learn/datasets/mnist.py:260: maybe_download (from tensorflow.contrib.learn.python.learn.datasets.base) is deprecated and will be removed in a future version.\n",
            "Instructions for updating:\n",
            "Please write your own downloading logic.\n",
            "WARNING:tensorflow:From /usr/local/lib/python3.6/dist-packages/tensorflow/contrib/learn/python/learn/datasets/mnist.py:262: extract_images (from tensorflow.contrib.learn.python.learn.datasets.mnist) is deprecated and will be removed in a future version.\n",
            "Instructions for updating:\n",
            "Please use tf.data to implement this functionality.\n",
            "Extracting ./Data/train-images-idx3-ubyte.gz\n",
            "WARNING:tensorflow:From /usr/local/lib/python3.6/dist-packages/tensorflow/contrib/learn/python/learn/datasets/mnist.py:267: extract_labels (from tensorflow.contrib.learn.python.learn.datasets.mnist) is deprecated and will be removed in a future version.\n",
            "Instructions for updating:\n",
            "Please use tf.data to implement this functionality.\n",
            "Extracting ./Data/train-labels-idx1-ubyte.gz\n",
            "WARNING:tensorflow:From /usr/local/lib/python3.6/dist-packages/tensorflow/contrib/learn/python/learn/datasets/mnist.py:110: dense_to_one_hot (from tensorflow.contrib.learn.python.learn.datasets.mnist) is deprecated and will be removed in a future version.\n",
            "Instructions for updating:\n",
            "Please use tf.one_hot on tensors.\n",
            "Extracting ./Data/t10k-images-idx3-ubyte.gz\n",
            "Extracting ./Data/t10k-labels-idx1-ubyte.gz\n",
            "WARNING:tensorflow:From /usr/local/lib/python3.6/dist-packages/tensorflow/contrib/learn/python/learn/datasets/mnist.py:290: DataSet.__init__ (from tensorflow.contrib.learn.python.learn.datasets.mnist) is deprecated and will be removed in a future version.\n",
            "Instructions for updating:\n",
            "Please use alternatives such as official/mnist/dataset.py from tensorflow/models.\n"
          ],
          "name": "stdout"
        },
        {
          "output_type": "error",
          "ename": "ValueError",
          "evalue": "ignored",
          "traceback": [
            "\u001b[0;31m---------------------------------------------------------------------------\u001b[0m",
            "\u001b[0;31mValueError\u001b[0m                                Traceback (most recent call last)",
            "\u001b[0;32m<ipython-input-33-678e2a34ea5f>\u001b[0m in \u001b[0;36m<module>\u001b[0;34m()\u001b[0m\n\u001b[1;32m    243\u001b[0m \u001b[0;34m\u001b[0m\u001b[0m\n\u001b[1;32m    244\u001b[0m \u001b[0;32mif\u001b[0m \u001b[0m__name__\u001b[0m \u001b[0;34m==\u001b[0m \u001b[0;34m'__main__'\u001b[0m\u001b[0;34m:\u001b[0m\u001b[0;34m\u001b[0m\u001b[0m\n\u001b[0;32m--> 245\u001b[0;31m     \u001b[0mtrain\u001b[0m\u001b[0;34m(\u001b[0m\u001b[0mtrain_model\u001b[0m\u001b[0;34m=\u001b[0m\u001b[0;32mTrue\u001b[0m\u001b[0;34m)\u001b[0m\u001b[0;34m\u001b[0m\u001b[0m\n\u001b[0m",
            "\u001b[0;32m<ipython-input-33-678e2a34ea5f>\u001b[0m in \u001b[0;36mtrain\u001b[0;34m(train_model)\u001b[0m\n\u001b[1;32m    149\u001b[0m     \"\"\"\n\u001b[1;32m    150\u001b[0m     \u001b[0;32mwith\u001b[0m \u001b[0mtf\u001b[0m\u001b[0;34m.\u001b[0m\u001b[0mvariable_scope\u001b[0m\u001b[0;34m(\u001b[0m\u001b[0mtf\u001b[0m\u001b[0;34m.\u001b[0m\u001b[0mget_variable_scope\u001b[0m\u001b[0;34m(\u001b[0m\u001b[0;34m)\u001b[0m\u001b[0;34m)\u001b[0m\u001b[0;34m:\u001b[0m\u001b[0;34m\u001b[0m\u001b[0m\n\u001b[0;32m--> 151\u001b[0;31m         \u001b[0mencoder_output\u001b[0m \u001b[0;34m=\u001b[0m \u001b[0mencoder\u001b[0m\u001b[0;34m(\u001b[0m\u001b[0mx_input\u001b[0m\u001b[0;34m)\u001b[0m\u001b[0;34m\u001b[0m\u001b[0m\n\u001b[0m\u001b[1;32m    152\u001b[0m         \u001b[0mdecoder_output\u001b[0m \u001b[0;34m=\u001b[0m \u001b[0mdecoder\u001b[0m\u001b[0;34m(\u001b[0m\u001b[0mencoder_output\u001b[0m\u001b[0;34m)\u001b[0m\u001b[0;34m\u001b[0m\u001b[0m\n\u001b[1;32m    153\u001b[0m \u001b[0;34m\u001b[0m\u001b[0m\n",
            "\u001b[0;32m<ipython-input-33-678e2a34ea5f>\u001b[0m in \u001b[0;36mencoder\u001b[0;34m(x, reuse)\u001b[0m\n\u001b[1;32m    103\u001b[0m         \u001b[0mtf\u001b[0m\u001b[0;34m.\u001b[0m\u001b[0mget_variable_scope\u001b[0m\u001b[0;34m(\u001b[0m\u001b[0;34m)\u001b[0m\u001b[0;34m.\u001b[0m\u001b[0mreuse_variables\u001b[0m\u001b[0;34m(\u001b[0m\u001b[0;34m)\u001b[0m\u001b[0;34m\u001b[0m\u001b[0m\n\u001b[1;32m    104\u001b[0m     \u001b[0;32mwith\u001b[0m \u001b[0mtf\u001b[0m\u001b[0;34m.\u001b[0m\u001b[0mname_scope\u001b[0m\u001b[0;34m(\u001b[0m\u001b[0;34m'Encoder'\u001b[0m\u001b[0;34m)\u001b[0m\u001b[0;34m:\u001b[0m\u001b[0;34m\u001b[0m\u001b[0m\n\u001b[0;32m--> 105\u001b[0;31m         \u001b[0me_dense_1\u001b[0m \u001b[0;34m=\u001b[0m \u001b[0mtf\u001b[0m\u001b[0;34m.\u001b[0m\u001b[0mnn\u001b[0m\u001b[0;34m.\u001b[0m\u001b[0mrelu\u001b[0m\u001b[0;34m(\u001b[0m\u001b[0mdense\u001b[0m\u001b[0;34m(\u001b[0m\u001b[0mx\u001b[0m\u001b[0;34m,\u001b[0m \u001b[0minput_dim\u001b[0m\u001b[0;34m,\u001b[0m \u001b[0mn_l1\u001b[0m\u001b[0;34m,\u001b[0m \u001b[0;34m'e_dense_1'\u001b[0m\u001b[0;34m)\u001b[0m\u001b[0;34m)\u001b[0m\u001b[0;34m\u001b[0m\u001b[0m\n\u001b[0m\u001b[1;32m    106\u001b[0m         \u001b[0me_dense_2\u001b[0m \u001b[0;34m=\u001b[0m \u001b[0mtf\u001b[0m\u001b[0;34m.\u001b[0m\u001b[0mnn\u001b[0m\u001b[0;34m.\u001b[0m\u001b[0mrelu\u001b[0m\u001b[0;34m(\u001b[0m\u001b[0mdense\u001b[0m\u001b[0;34m(\u001b[0m\u001b[0me_dense_1\u001b[0m\u001b[0;34m,\u001b[0m \u001b[0mn_l1\u001b[0m\u001b[0;34m,\u001b[0m \u001b[0mn_l2\u001b[0m\u001b[0;34m,\u001b[0m \u001b[0;34m'e_dense_2'\u001b[0m\u001b[0;34m)\u001b[0m\u001b[0;34m)\u001b[0m\u001b[0;34m\u001b[0m\u001b[0m\n\u001b[1;32m    107\u001b[0m         \u001b[0mlatent_variable\u001b[0m \u001b[0;34m=\u001b[0m \u001b[0mdense\u001b[0m\u001b[0;34m(\u001b[0m\u001b[0me_dense_2\u001b[0m\u001b[0;34m,\u001b[0m \u001b[0mn_l2\u001b[0m\u001b[0;34m,\u001b[0m \u001b[0mz_dim\u001b[0m\u001b[0;34m,\u001b[0m \u001b[0;34m'e_latent_variable'\u001b[0m\u001b[0;34m)\u001b[0m\u001b[0;34m\u001b[0m\u001b[0m\n",
            "\u001b[0;32m<ipython-input-33-678e2a34ea5f>\u001b[0m in \u001b[0;36mdense\u001b[0;34m(x, n1, n2, name)\u001b[0m\n\u001b[1;32m     86\u001b[0m     \u001b[0;32mwith\u001b[0m \u001b[0mtf\u001b[0m\u001b[0;34m.\u001b[0m\u001b[0mvariable_scope\u001b[0m\u001b[0;34m(\u001b[0m\u001b[0mname\u001b[0m\u001b[0;34m,\u001b[0m \u001b[0mreuse\u001b[0m\u001b[0;34m=\u001b[0m\u001b[0;32mNone\u001b[0m\u001b[0;34m)\u001b[0m\u001b[0;34m:\u001b[0m\u001b[0;34m\u001b[0m\u001b[0m\n\u001b[1;32m     87\u001b[0m         weights = tf.get_variable(\"weights\", shape=[n1, n2],\n\u001b[0;32m---> 88\u001b[0;31m                                   initializer=tf.random_normal_initializer(mean=0., stddev=0.01))\n\u001b[0m\u001b[1;32m     89\u001b[0m         \u001b[0mbias\u001b[0m \u001b[0;34m=\u001b[0m \u001b[0mtf\u001b[0m\u001b[0;34m.\u001b[0m\u001b[0mget_variable\u001b[0m\u001b[0;34m(\u001b[0m\u001b[0;34m\"bias\"\u001b[0m\u001b[0;34m,\u001b[0m \u001b[0mshape\u001b[0m\u001b[0;34m=\u001b[0m\u001b[0;34m[\u001b[0m\u001b[0mn2\u001b[0m\u001b[0;34m]\u001b[0m\u001b[0;34m,\u001b[0m \u001b[0minitializer\u001b[0m\u001b[0;34m=\u001b[0m\u001b[0mtf\u001b[0m\u001b[0;34m.\u001b[0m\u001b[0mconstant_initializer\u001b[0m\u001b[0;34m(\u001b[0m\u001b[0;36m0.0\u001b[0m\u001b[0;34m)\u001b[0m\u001b[0;34m)\u001b[0m\u001b[0;34m\u001b[0m\u001b[0m\n\u001b[1;32m     90\u001b[0m         \u001b[0mout\u001b[0m \u001b[0;34m=\u001b[0m \u001b[0mtf\u001b[0m\u001b[0;34m.\u001b[0m\u001b[0madd\u001b[0m\u001b[0;34m(\u001b[0m\u001b[0mtf\u001b[0m\u001b[0;34m.\u001b[0m\u001b[0mmatmul\u001b[0m\u001b[0;34m(\u001b[0m\u001b[0mx\u001b[0m\u001b[0;34m,\u001b[0m \u001b[0mweights\u001b[0m\u001b[0;34m)\u001b[0m\u001b[0;34m,\u001b[0m \u001b[0mbias\u001b[0m\u001b[0;34m,\u001b[0m \u001b[0mname\u001b[0m\u001b[0;34m=\u001b[0m\u001b[0;34m'matmul'\u001b[0m\u001b[0;34m)\u001b[0m\u001b[0;34m\u001b[0m\u001b[0m\n",
            "\u001b[0;32m/usr/local/lib/python3.6/dist-packages/tensorflow/python/ops/variable_scope.py\u001b[0m in \u001b[0;36mget_variable\u001b[0;34m(name, shape, dtype, initializer, regularizer, trainable, collections, caching_device, partitioner, validate_shape, use_resource, custom_getter, constraint)\u001b[0m\n\u001b[1;32m   1295\u001b[0m       \u001b[0mpartitioner\u001b[0m\u001b[0;34m=\u001b[0m\u001b[0mpartitioner\u001b[0m\u001b[0;34m,\u001b[0m \u001b[0mvalidate_shape\u001b[0m\u001b[0;34m=\u001b[0m\u001b[0mvalidate_shape\u001b[0m\u001b[0;34m,\u001b[0m\u001b[0;34m\u001b[0m\u001b[0m\n\u001b[1;32m   1296\u001b[0m       \u001b[0muse_resource\u001b[0m\u001b[0;34m=\u001b[0m\u001b[0muse_resource\u001b[0m\u001b[0;34m,\u001b[0m \u001b[0mcustom_getter\u001b[0m\u001b[0;34m=\u001b[0m\u001b[0mcustom_getter\u001b[0m\u001b[0;34m,\u001b[0m\u001b[0;34m\u001b[0m\u001b[0m\n\u001b[0;32m-> 1297\u001b[0;31m       constraint=constraint)\n\u001b[0m\u001b[1;32m   1298\u001b[0m get_variable_or_local_docstring = (\n\u001b[1;32m   1299\u001b[0m     \"\"\"%s\n",
            "\u001b[0;32m/usr/local/lib/python3.6/dist-packages/tensorflow/python/ops/variable_scope.py\u001b[0m in \u001b[0;36mget_variable\u001b[0;34m(self, var_store, name, shape, dtype, initializer, regularizer, reuse, trainable, collections, caching_device, partitioner, validate_shape, use_resource, custom_getter, constraint)\u001b[0m\n\u001b[1;32m   1091\u001b[0m           \u001b[0mpartitioner\u001b[0m\u001b[0;34m=\u001b[0m\u001b[0mpartitioner\u001b[0m\u001b[0;34m,\u001b[0m \u001b[0mvalidate_shape\u001b[0m\u001b[0;34m=\u001b[0m\u001b[0mvalidate_shape\u001b[0m\u001b[0;34m,\u001b[0m\u001b[0;34m\u001b[0m\u001b[0m\n\u001b[1;32m   1092\u001b[0m           \u001b[0muse_resource\u001b[0m\u001b[0;34m=\u001b[0m\u001b[0muse_resource\u001b[0m\u001b[0;34m,\u001b[0m \u001b[0mcustom_getter\u001b[0m\u001b[0;34m=\u001b[0m\u001b[0mcustom_getter\u001b[0m\u001b[0;34m,\u001b[0m\u001b[0;34m\u001b[0m\u001b[0m\n\u001b[0;32m-> 1093\u001b[0;31m           constraint=constraint)\n\u001b[0m\u001b[1;32m   1094\u001b[0m \u001b[0;34m\u001b[0m\u001b[0m\n\u001b[1;32m   1095\u001b[0m   def _get_partitioned_variable(self,\n",
            "\u001b[0;32m/usr/local/lib/python3.6/dist-packages/tensorflow/python/ops/variable_scope.py\u001b[0m in \u001b[0;36mget_variable\u001b[0;34m(self, name, shape, dtype, initializer, regularizer, reuse, trainable, collections, caching_device, partitioner, validate_shape, use_resource, custom_getter, constraint)\u001b[0m\n\u001b[1;32m    437\u001b[0m           \u001b[0mcaching_device\u001b[0m\u001b[0;34m=\u001b[0m\u001b[0mcaching_device\u001b[0m\u001b[0;34m,\u001b[0m \u001b[0mpartitioner\u001b[0m\u001b[0;34m=\u001b[0m\u001b[0mpartitioner\u001b[0m\u001b[0;34m,\u001b[0m\u001b[0;34m\u001b[0m\u001b[0m\n\u001b[1;32m    438\u001b[0m           \u001b[0mvalidate_shape\u001b[0m\u001b[0;34m=\u001b[0m\u001b[0mvalidate_shape\u001b[0m\u001b[0;34m,\u001b[0m \u001b[0muse_resource\u001b[0m\u001b[0;34m=\u001b[0m\u001b[0muse_resource\u001b[0m\u001b[0;34m,\u001b[0m\u001b[0;34m\u001b[0m\u001b[0m\n\u001b[0;32m--> 439\u001b[0;31m           constraint=constraint)\n\u001b[0m\u001b[1;32m    440\u001b[0m \u001b[0;34m\u001b[0m\u001b[0m\n\u001b[1;32m    441\u001b[0m   def _get_partitioned_variable(\n",
            "\u001b[0;32m/usr/local/lib/python3.6/dist-packages/tensorflow/python/ops/variable_scope.py\u001b[0m in \u001b[0;36m_true_getter\u001b[0;34m(name, shape, dtype, initializer, regularizer, reuse, trainable, collections, caching_device, partitioner, validate_shape, use_resource, constraint)\u001b[0m\n\u001b[1;32m    406\u001b[0m           \u001b[0mtrainable\u001b[0m\u001b[0;34m=\u001b[0m\u001b[0mtrainable\u001b[0m\u001b[0;34m,\u001b[0m \u001b[0mcollections\u001b[0m\u001b[0;34m=\u001b[0m\u001b[0mcollections\u001b[0m\u001b[0;34m,\u001b[0m\u001b[0;34m\u001b[0m\u001b[0m\n\u001b[1;32m    407\u001b[0m           \u001b[0mcaching_device\u001b[0m\u001b[0;34m=\u001b[0m\u001b[0mcaching_device\u001b[0m\u001b[0;34m,\u001b[0m \u001b[0mvalidate_shape\u001b[0m\u001b[0;34m=\u001b[0m\u001b[0mvalidate_shape\u001b[0m\u001b[0;34m,\u001b[0m\u001b[0;34m\u001b[0m\u001b[0m\n\u001b[0;32m--> 408\u001b[0;31m           use_resource=use_resource, constraint=constraint)\n\u001b[0m\u001b[1;32m    409\u001b[0m \u001b[0;34m\u001b[0m\u001b[0m\n\u001b[1;32m    410\u001b[0m     \u001b[0;32mif\u001b[0m \u001b[0mcustom_getter\u001b[0m \u001b[0;32mis\u001b[0m \u001b[0;32mnot\u001b[0m \u001b[0;32mNone\u001b[0m\u001b[0;34m:\u001b[0m\u001b[0;34m\u001b[0m\u001b[0m\n",
            "\u001b[0;32m/usr/local/lib/python3.6/dist-packages/tensorflow/python/ops/variable_scope.py\u001b[0m in \u001b[0;36m_get_single_variable\u001b[0;34m(self, name, shape, dtype, initializer, regularizer, partition_info, reuse, trainable, collections, caching_device, validate_shape, use_resource, constraint)\u001b[0m\n\u001b[1;32m    745\u001b[0m                          \u001b[0;34m\"reuse=tf.AUTO_REUSE in VarScope? \"\u001b[0m\u001b[0;34m\u001b[0m\u001b[0m\n\u001b[1;32m    746\u001b[0m                          \"Originally defined at:\\n\\n%s\" % (\n\u001b[0;32m--> 747\u001b[0;31m                              name, \"\".join(traceback.format_list(tb))))\n\u001b[0m\u001b[1;32m    748\u001b[0m       \u001b[0mfound_var\u001b[0m \u001b[0;34m=\u001b[0m \u001b[0mself\u001b[0m\u001b[0;34m.\u001b[0m\u001b[0m_vars\u001b[0m\u001b[0;34m[\u001b[0m\u001b[0mname\u001b[0m\u001b[0;34m]\u001b[0m\u001b[0;34m\u001b[0m\u001b[0m\n\u001b[1;32m    749\u001b[0m       \u001b[0;32mif\u001b[0m \u001b[0;32mnot\u001b[0m \u001b[0mshape\u001b[0m\u001b[0;34m.\u001b[0m\u001b[0mis_compatible_with\u001b[0m\u001b[0;34m(\u001b[0m\u001b[0mfound_var\u001b[0m\u001b[0;34m.\u001b[0m\u001b[0mget_shape\u001b[0m\u001b[0;34m(\u001b[0m\u001b[0;34m)\u001b[0m\u001b[0;34m)\u001b[0m\u001b[0;34m:\u001b[0m\u001b[0;34m\u001b[0m\u001b[0m\n",
            "\u001b[0;31mValueError\u001b[0m: Variable e_dense_1/weights already exists, disallowed. Did you mean to set reuse=True or reuse=tf.AUTO_REUSE in VarScope? Originally defined at:\n\n  File \"<ipython-input-25-b36b4e5152bb>\", line 85, in dense\n    initializer=tf.random_normal_initializer(mean=0., stddev=0.01))\n  File \"<ipython-input-25-b36b4e5152bb>\", line 102, in encoder\n    e_dense_1 = tf.nn.relu(dense(x, input_dim, n_l1, 'e_dense_1'))\n  File \"<ipython-input-25-b36b4e5152bb>\", line 148, in train\n    encoder_output = encoder(x_input)\n"
          ]
        }
      ]
    }
  ]
}